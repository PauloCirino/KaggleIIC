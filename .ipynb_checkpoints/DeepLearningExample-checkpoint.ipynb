{
 "cells": [
  {
   "cell_type": "code",
   "execution_count": 1,
   "metadata": {
    "collapsed": true
   },
   "outputs": [],
   "source": [
    "# import pandas as pd\n",
    "import numpy as np\n",
    "import tensorflow as tf\n",
    "import csv\n",
    "\n",
    "from sklearn.preprocessing import Imputer\n",
    "from sklearn.model_selection import train_test_split\n",
    "\n",
    "import matplotlib.pyplot as plt\n",
    "import random\n",
    "\n",
    "train_data_file = './data/train.csv'\n",
    "validation_data_file = './data/test.csv'\n",
    "\n",
    "### OUTPUT FIle Name\n",
    "OUTPUT_FILE_NAME = \"tensor_flow_output_pred.csv\"\n",
    "\n",
    "### Test Split Settings\n",
    "VALIDATION_SPLIT = 0.3\n",
    "\n",
    "### Neural Network Settings\n",
    "N_NEURONS_LAYER_2 = 300\n",
    "N_NEURONS_LAYER_3 = 500\n",
    "DROP_OUT_RATE = 0.6\n",
    "\n",
    "### Trainning Settings\n",
    "LEARNING_RATE = 0.0001\n",
    "N_EPOCHS = 100000\n",
    "TRAINNING_BATCH_SIZE = 32\n",
    "\n",
    "### Verbose Options\n",
    "VERBOSE = True\n",
    "VERBOSE_EACH_N_EPOCHS = 1000\n"
   ]
  },
  {
   "cell_type": "code",
   "execution_count": 2,
   "metadata": {
    "collapsed": true
   },
   "outputs": [],
   "source": [
    "def randomize_data_obs(dataset, labels, n_obs):\n",
    "    permutation = np.random.permutation(labels.shape[0])\n",
    "    permutation = permutation[0 : n_obs]\n",
    "    shuffled_dataset = dataset[permutation, :]\n",
    "    shuffled_labels = labels[permutation]\n",
    "    return shuffled_dataset, shuffled_labels"
   ]
  },
  {
   "cell_type": "code",
   "execution_count": 3,
   "metadata": {
    "collapsed": true
   },
   "outputs": [],
   "source": [
    "def neural_network_model(X, keep_rate, weights, biases):\n",
    "    hiden_layer_1 = tf.matmul(X, weights['hiden_layer_1'])\n",
    "    hiden_layer_1 = tf.add(hiden_layer_1, biases['hiden_layer_1'])\n",
    "    hiden_layer_1 = tf.nn.relu(hiden_layer_1)\n",
    "    \n",
    "    hiden_layer_2 = tf.matmul(hiden_layer_1, weights['hiden_layer_2'])\n",
    "    hiden_layer_2 = tf.add(hiden_layer_2, biases['hiden_layer_2'])\n",
    "    hiden_layer_2 = tf.nn.relu(hiden_layer_2)\n",
    "    \n",
    "    hiden_layer_3 = tf.matmul(hiden_layer_2, weights['hiden_layer_3'])\n",
    "    hiden_layer_3 = tf.add(hiden_layer_3, biases['hiden_layer_3'])\n",
    "    hiden_layer_3 = tf.nn.relu(hiden_layer_3)\n",
    "    \n",
    "    output_layer = tf.matmul(hiden_layer_3, weights['output_layer'])\n",
    "    output_layer = tf.add(output_layer, biases['output_layer'])\n",
    "    \n",
    "    return output_layer\n"
   ]
  },
  {
   "cell_type": "code",
   "execution_count": 4,
   "metadata": {
    "collapsed": true
   },
   "outputs": [],
   "source": [
    "def train_neural_network(train_dataset, train_labels, \n",
    "                         predictioon_data_set = None,\n",
    "                         validation_split = VALIDATION_SPLIT,\n",
    "                         n_neuron_layer_2 = N_NEURONS_LAYER_2,\n",
    "                         n_neuron_layer_3 = N_NEURONS_LAYER_3,\n",
    "                         keep_prob = DROP_OUT_RATE,\n",
    "                         n_epochs = N_EPOCHS, batch_size = TRAINNING_BATCH_SIZE,\n",
    "                         verbose = VERBOSE, n_verbose_epoch = VERBOSE_EACH_N_EPOCHS):\n",
    "    n_neuron_layer_1 = train_dataset.shape[0]\n",
    "    train_dataset, test_dataset, train_labels, test_labels = train_test_split( train_dataset,\n",
    "                                                                               train_labels,\n",
    "                                                                               test_size = VALIDATION_SPLIT)\n",
    "                \n",
    "    N_PREDICTORS = train_dataset.shape[1]\n",
    "    \n",
    "    X = tf.placeholder(\"float\", [None, N_PREDICTORS])\n",
    "    Y = tf.placeholder(\"float\", [None])\n",
    "    keep_rate = tf.placeholder(tf.float32)\n",
    "    \n",
    "    weights = {'hiden_layer_1':tf.Variable(tf.random_normal([N_PREDICTORS, n_neuron_layer_1], 0, 0.1)),\n",
    "               'hiden_layer_2':tf.Variable(tf.random_normal([n_neuron_layer_1, n_neuron_layer_2], 0, 0.1)),\n",
    "               'hiden_layer_3':tf.Variable(tf.random_normal([n_neuron_layer_2, n_neuron_layer_3], 0, 0.1)),\n",
    "               'output_layer':tf.Variable(tf.random_normal([n_neuron_layer_3, 1], 0, 0.1))}\n",
    "\n",
    "    biases = { 'hiden_layer_1':tf.Variable(tf.random_normal([n_neuron_layer_1], 0, 0.1)),\n",
    "               'hiden_layer_2':tf.Variable(tf.random_normal([n_neuron_layer_2], 0, 0.1)),\n",
    "               'hiden_layer_3':tf.Variable(tf.random_normal([n_neuron_layer_3], 0, 0.1)),\n",
    "               'output_layer':tf.Variable(tf.random_normal([1], 0, 0.1))}\n",
    "    \n",
    "    prediction = neural_network_model(X, keep_rate, weights, biases)\n",
    "    cost = tf.reduce_mean( tf.sqrt(tf.square(tf.transpose(prediction) - Y)) )\n",
    "    optimizer = tf.train.AdamOptimizer(learning_rate = LEARNING_RATE).minimize(cost)\n",
    "    \n",
    "    with tf.Session() as sess:\n",
    "        sess.run(tf.global_variables_initializer())\n",
    "\n",
    "        for epoch in range(n_epochs+1):\n",
    "            \n",
    "            epoch_x, epoch_y = randomize_data_obs(train_dataset, train_labels, batch_size)\n",
    "            _, c, p = sess.run([optimizer, cost, prediction], feed_dict = {X: train_dataset,\n",
    "                                                                           Y: train_labels,\n",
    "                                                                           keep_rate: keep_prob} )\n",
    "                               \n",
    "            if int(epoch % n_verbose_epoch)  == 0 and verbose == True:\n",
    "                training_cost = sess.run([cost], feed_dict = {X: train_dataset,\n",
    "                                                              Y: train_labels,\n",
    "                                                              keep_rate: 1})\n",
    "                test_cost = sess.run([cost], feed_dict = {X: test_dataset,\n",
    "                                                          Y: test_labels,\n",
    "                                                          keep_rate: 1})       \n",
    "                print(\"EPOCH\", str(epoch), \":\",\n",
    "                      \"Training Cost=\", str(training_cost),\n",
    "                      \"Test Cost\", str(test_cost)\n",
    "                     )\n",
    "         \n",
    "        if type(predictioon_data_set) != type(None):\n",
    "            predictioon_labels = sess.run(prediction, feed_dict = {X: predictioon_data_set, keep_rate: 1})\n",
    "            return predictioon_labels"
   ]
  },
  {
   "cell_type": "code",
   "execution_count": 5,
   "metadata": {},
   "outputs": [],
   "source": [
    "train_data = np.genfromtxt(train_data_file, delimiter=',', skip_header = 1)\n",
    "validation_data = np.genfromtxt(validation_data_file, delimiter=',', skip_header = 1)\n",
    "\n",
    "imp = Imputer(missing_values = 'NaN', strategy = 'mean', axis = 1)\n",
    "imp.fit(train_data)\n",
    "\n",
    "train_data = imp.transform(train_data)\n",
    "validation_data = imp.transform(validation_data)\n",
    "\n",
    "validation_data_ID = validation_data[:, 0]\n",
    "validation_data = validation_data[:, 1:]\n",
    "\n",
    "train_labels = train_data[:, -1] ### The Target Column\n",
    "train_data = train_data[:, 1:-1] ### All but Id and Target Columns\n"
   ]
  },
  {
   "cell_type": "code",
   "execution_count": null,
   "metadata": {},
   "outputs": [
    {
     "name": "stdout",
     "output_type": "stream",
     "text": [
      "EPOCH 0 : Training Cost= [11645292.0] Test Cost [23454788.0]\n",
      "c = 3.39039e+07\n",
      "EPOCH 1000 : Training Cost= [1772484.5] Test Cost [3418767.2]\n",
      "c = 1.1165e+06\n",
      "EPOCH 2000 : Training Cost= [259201.28] Test Cost [359450.25]\n",
      "c = 1.21221e+06\n",
      "EPOCH 3000 : Training Cost= [884508.44] Test Cost [1667009.0]\n",
      "c = 1.16306e+06\n",
      "EPOCH 4000 : Training Cost= [678111.19] Test Cost [1225236.0]\n",
      "c = 531184.0\n",
      "EPOCH 5000 : Training Cost= [608271.25] Test Cost [1056551.5]\n",
      "c = 343416.0\n",
      "EPOCH 6000 : Training Cost= [340289.44] Test Cost [557356.69]\n",
      "c = 143521.0\n",
      "EPOCH 7000 : Training Cost= [301044.62] Test Cost [741412.31]\n",
      "c = 173582.0\n",
      "EPOCH 8000 : Training Cost= [280520.09] Test Cost [431163.22]\n",
      "c = 119424.0\n",
      "EPOCH 9000 : Training Cost= [178124.14] Test Cost [215952.84]\n",
      "c = 584557.0\n",
      "EPOCH 10000 : Training Cost= [351565.09] Test Cost [844495.81]\n",
      "c = 156801.0\n",
      "EPOCH 11000 : Training Cost= [333422.22] Test Cost [788121.06]\n",
      "c = 135355.0\n",
      "EPOCH 12000 : Training Cost= [174298.61] Test Cost [230147.56]\n",
      "c = 92786.7\n",
      "EPOCH 13000 : Training Cost= [123994.45] Test Cost [162408.98]\n",
      "c = 80094.3\n",
      "EPOCH 14000 : Training Cost= [nan] Test Cost [nan]\n",
      "c = nan\n",
      "EPOCH 15000 : Training Cost= [nan] Test Cost [nan]\n",
      "c = nan\n",
      "EPOCH 16000 : Training Cost= [nan] Test Cost [nan]\n",
      "c = nan\n"
     ]
    }
   ],
   "source": [
    "validation_pred_labels = train_neural_network(train_dataset = train_data,\n",
    "                                              train_labels = train_labels, \n",
    "                                              predictioon_data_set = validation_data)"
   ]
  },
  {
   "cell_type": "code",
   "execution_count": null,
   "metadata": {
    "collapsed": true
   },
   "outputs": [],
   "source": [
    "submissions = pd.DataFrame({'Id': validation_data_ID.astype(int),\n",
    "                            'Target': validation_pred_labels.reshape([1, -1])[0]})\n",
    "submissions.to_csv( OUTPUT_FILE_NAME, \n",
    "                    index = False,\n",
    "                    header = True,\n",
    "                    quoting = csv.QUOTE_NONNUMERIC,\n",
    "                    quotechar = '\\\"')"
   ]
  },
  {
   "cell_type": "code",
   "execution_count": null,
   "metadata": {
    "collapsed": true
   },
   "outputs": [],
   "source": []
  }
 ],
 "metadata": {
  "kernelspec": {
   "display_name": "Python 3",
   "language": "python",
   "name": "python3"
  },
  "language_info": {
   "codemirror_mode": {
    "name": "ipython",
    "version": 3
   },
   "file_extension": ".py",
   "mimetype": "text/x-python",
   "name": "python",
   "nbconvert_exporter": "python",
   "pygments_lexer": "ipython3",
   "version": "3.4.3"
  }
 },
 "nbformat": 4,
 "nbformat_minor": 2
}
